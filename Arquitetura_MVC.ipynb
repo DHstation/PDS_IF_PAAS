{
  "nbformat": 4,
  "nbformat_minor": 0,
  "metadata": {
    "colab": {
      "name": "Arquitetura MVC.ipynb",
      "provenance": [],
      "collapsed_sections": [],
      "authorship_tag": "ABX9TyN4GYslTZ5JUI6KrH2uIwjr",
      "include_colab_link": true
    },
    "kernelspec": {
      "name": "python3",
      "display_name": "Python 3"
    },
    "language_info": {
      "name": "python"
    }
  },
  "cells": [
    {
      "cell_type": "markdown",
      "metadata": {
        "id": "view-in-github",
        "colab_type": "text"
      },
      "source": [
        "<a href=\"https://colab.research.google.com/github/andouglasjr/PDS_IF_PAAS/blob/main/Arquitetura_MVC.ipynb\" target=\"_parent\"><img src=\"https://colab.research.google.com/assets/colab-badge.svg\" alt=\"Open In Colab\"/></a>"
      ]
    },
    {
      "cell_type": "markdown",
      "source": [
        "\n",
        "```\n",
        "# Instituto Federal do Rio Grande do Norte\n",
        "# Campus Avançado de Parelhas\n",
        "# Projeto de Software\n",
        "# Professor: Andouglas Gonçalves da Silva Júnior\n",
        "```\n",
        "\n"
      ],
      "metadata": {
        "id": "SYXnXEFcAcdV"
      }
    },
    {
      "cell_type": "markdown",
      "source": [
        "##Arquitetura MVC\n",
        "\n",
        "Neste notebook vamos implementar um simples exemplo estruturado na arquitetura Model-View-Controller (MVC). \n",
        "\n",
        "Nota: Aqui é um simples exemplo, apenas para entender como essa arquitetura pode ser implementada. Por isso, não vamos usar interfaces mais elaboradas, nem banco de dados.\n",
        "\n",
        "Primeiro, faça os imports das bibliotecas que vamos utilizar neste projeto:\n",
        "\n",
        "1 - Pandas - Auxilia no processamento de dados;\n"
      ],
      "metadata": {
        "id": "cK6vWZLsAssY"
      }
    },
    {
      "cell_type": "code",
      "source": [
        "import pandas as pd"
      ],
      "metadata": {
        "id": "7kfXh0utCpnV"
      },
      "execution_count": 1,
      "outputs": []
    },
    {
      "cell_type": "markdown",
      "source": [
        "###CRUD\n",
        "\n",
        "De qualquer forma, precisamos de uma maneira de \"armazenar\" dados para que possam ser acessados pelo sistema por meio do modelo. Para tal, vamos usar uma simples lista em python que irá armazenar as informações desejadas e vamos visualizar essa lista em formato de tabela utilizando a biblioteca Pandas."
      ],
      "metadata": {
        "id": "gmME4a1_BNPq"
      }
    },
    {
      "cell_type": "code",
      "source": [
        "ifsDoSerido = [\n",
        "  {'sigla':'PAAS', 'cidade': 'Parelhas'},\n",
        "  {'sigla':'CN', 'cidade': 'Currais Novos'},\n",
        "  {'sigla':'CA', 'cidade': 'Caicó'}\n",
        "]\n",
        "\n",
        "tabela = pd.DataFrame(ifsDoSerido)"
      ],
      "metadata": {
        "id": "eU4WoU34DLCG"
      },
      "execution_count": 4,
      "outputs": []
    },
    {
      "cell_type": "code",
      "execution_count": 5,
      "metadata": {
        "colab": {
          "base_uri": "https://localhost:8080/",
          "height": 143
        },
        "id": "whIeLbNtAbr6",
        "outputId": "cdd64db4-489d-4924-976e-b851dde5c07e"
      },
      "outputs": [
        {
          "output_type": "execute_result",
          "data": {
            "text/plain": [
              "  sigla         cidade\n",
              "0  PAAS       Parelhas\n",
              "1    CN  Currais Novos\n",
              "2    CA          Caicó"
            ],
            "text/html": [
              "\n",
              "  <div id=\"df-5bae8381-70fc-439d-9d43-da442a545bcc\">\n",
              "    <div class=\"colab-df-container\">\n",
              "      <div>\n",
              "<style scoped>\n",
              "    .dataframe tbody tr th:only-of-type {\n",
              "        vertical-align: middle;\n",
              "    }\n",
              "\n",
              "    .dataframe tbody tr th {\n",
              "        vertical-align: top;\n",
              "    }\n",
              "\n",
              "    .dataframe thead th {\n",
              "        text-align: right;\n",
              "    }\n",
              "</style>\n",
              "<table border=\"1\" class=\"dataframe\">\n",
              "  <thead>\n",
              "    <tr style=\"text-align: right;\">\n",
              "      <th></th>\n",
              "      <th>sigla</th>\n",
              "      <th>cidade</th>\n",
              "    </tr>\n",
              "  </thead>\n",
              "  <tbody>\n",
              "    <tr>\n",
              "      <th>0</th>\n",
              "      <td>PAAS</td>\n",
              "      <td>Parelhas</td>\n",
              "    </tr>\n",
              "    <tr>\n",
              "      <th>1</th>\n",
              "      <td>CN</td>\n",
              "      <td>Currais Novos</td>\n",
              "    </tr>\n",
              "    <tr>\n",
              "      <th>2</th>\n",
              "      <td>CA</td>\n",
              "      <td>Caicó</td>\n",
              "    </tr>\n",
              "  </tbody>\n",
              "</table>\n",
              "</div>\n",
              "      <button class=\"colab-df-convert\" onclick=\"convertToInteractive('df-5bae8381-70fc-439d-9d43-da442a545bcc')\"\n",
              "              title=\"Convert this dataframe to an interactive table.\"\n",
              "              style=\"display:none;\">\n",
              "        \n",
              "  <svg xmlns=\"http://www.w3.org/2000/svg\" height=\"24px\"viewBox=\"0 0 24 24\"\n",
              "       width=\"24px\">\n",
              "    <path d=\"M0 0h24v24H0V0z\" fill=\"none\"/>\n",
              "    <path d=\"M18.56 5.44l.94 2.06.94-2.06 2.06-.94-2.06-.94-.94-2.06-.94 2.06-2.06.94zm-11 1L8.5 8.5l.94-2.06 2.06-.94-2.06-.94L8.5 2.5l-.94 2.06-2.06.94zm10 10l.94 2.06.94-2.06 2.06-.94-2.06-.94-.94-2.06-.94 2.06-2.06.94z\"/><path d=\"M17.41 7.96l-1.37-1.37c-.4-.4-.92-.59-1.43-.59-.52 0-1.04.2-1.43.59L10.3 9.45l-7.72 7.72c-.78.78-.78 2.05 0 2.83L4 21.41c.39.39.9.59 1.41.59.51 0 1.02-.2 1.41-.59l7.78-7.78 2.81-2.81c.8-.78.8-2.07 0-2.86zM5.41 20L4 18.59l7.72-7.72 1.47 1.35L5.41 20z\"/>\n",
              "  </svg>\n",
              "      </button>\n",
              "      \n",
              "  <style>\n",
              "    .colab-df-container {\n",
              "      display:flex;\n",
              "      flex-wrap:wrap;\n",
              "      gap: 12px;\n",
              "    }\n",
              "\n",
              "    .colab-df-convert {\n",
              "      background-color: #E8F0FE;\n",
              "      border: none;\n",
              "      border-radius: 50%;\n",
              "      cursor: pointer;\n",
              "      display: none;\n",
              "      fill: #1967D2;\n",
              "      height: 32px;\n",
              "      padding: 0 0 0 0;\n",
              "      width: 32px;\n",
              "    }\n",
              "\n",
              "    .colab-df-convert:hover {\n",
              "      background-color: #E2EBFA;\n",
              "      box-shadow: 0px 1px 2px rgba(60, 64, 67, 0.3), 0px 1px 3px 1px rgba(60, 64, 67, 0.15);\n",
              "      fill: #174EA6;\n",
              "    }\n",
              "\n",
              "    [theme=dark] .colab-df-convert {\n",
              "      background-color: #3B4455;\n",
              "      fill: #D2E3FC;\n",
              "    }\n",
              "\n",
              "    [theme=dark] .colab-df-convert:hover {\n",
              "      background-color: #434B5C;\n",
              "      box-shadow: 0px 1px 3px 1px rgba(0, 0, 0, 0.15);\n",
              "      filter: drop-shadow(0px 1px 2px rgba(0, 0, 0, 0.3));\n",
              "      fill: #FFFFFF;\n",
              "    }\n",
              "  </style>\n",
              "\n",
              "      <script>\n",
              "        const buttonEl =\n",
              "          document.querySelector('#df-5bae8381-70fc-439d-9d43-da442a545bcc button.colab-df-convert');\n",
              "        buttonEl.style.display =\n",
              "          google.colab.kernel.accessAllowed ? 'block' : 'none';\n",
              "\n",
              "        async function convertToInteractive(key) {\n",
              "          const element = document.querySelector('#df-5bae8381-70fc-439d-9d43-da442a545bcc');\n",
              "          const dataTable =\n",
              "            await google.colab.kernel.invokeFunction('convertToInteractive',\n",
              "                                                     [key], {});\n",
              "          if (!dataTable) return;\n",
              "\n",
              "          const docLinkHtml = 'Like what you see? Visit the ' +\n",
              "            '<a target=\"_blank\" href=https://colab.research.google.com/notebooks/data_table.ipynb>data table notebook</a>'\n",
              "            + ' to learn more about interactive tables.';\n",
              "          element.innerHTML = '';\n",
              "          dataTable['output_type'] = 'display_data';\n",
              "          await google.colab.output.renderOutput(dataTable, element);\n",
              "          const docLink = document.createElement('div');\n",
              "          docLink.innerHTML = docLinkHtml;\n",
              "          element.appendChild(docLink);\n",
              "        }\n",
              "      </script>\n",
              "    </div>\n",
              "  </div>\n",
              "  "
            ]
          },
          "metadata": {},
          "execution_count": 5
        }
      ],
      "source": [
        "tabela"
      ]
    },
    {
      "cell_type": "markdown",
      "source": [
        "Vamos criar uma classe que irá criar, ler, atualizar e apagar dados nessa tabela, como se fosse o nosso banco de dados."
      ],
      "metadata": {
        "id": "P5GKPT45De5O"
      }
    },
    {
      "cell_type": "code",
      "source": [
        "items = list() #Variável global onde nossos dados serão armazenados\n",
        "\n",
        "#As duas próximas funções correspondem a função Create do CRUD\n",
        "\n",
        "def create_items(app_items): #criar a partir de uma lista\n",
        "  global items\n",
        "  items = app_items\n",
        "\n",
        "def create_item(sigla, cidade): #criar apenas um item\n",
        "  global items\n",
        "  items.append({'sigla':sigla, 'cidade':cidade})\n",
        "\n",
        "#As duas próximas funções correspondem a função Read do CRUD\n",
        "\n",
        "def read_item(sigla): #ler apenas um item a partir da sigla\n",
        "  global items\n",
        "  myitems = list(filter(lambda x:x['sigla'] == sigla, items))\n",
        "  return myitems[0]\n",
        "\n",
        "def read_items(): #ler todos os itens da lista\n",
        "  global items\n",
        "  return [item for item in items]\n",
        "\n",
        "#A próxima função corresponde a função UPDATE do CRUD\n",
        "\n",
        "def update_item(sigla, cidade): #atualiza um deterinado item pela sigla\n",
        "  global items\n",
        "  idxs_items = list(\n",
        "        filter(lambda i_x: i_x[1]['sigla'] == sigla, enumerate(items)))\n",
        "  if idxs_items:\n",
        "        i, item_to_update = idxs_items[0][0], idxs_items[0][1]\n",
        "        items[i] = {'sigla': sigla, 'cidade': cidade}\n",
        "  \n",
        "#A próxima função corresonde a função DELETE do CRUD\n",
        "\n",
        "def delete_item(sigla): #deleta um deterinado item pela sigla\n",
        "  global items\n",
        "  idxs_items = list(\n",
        "        filter(lambda i_x: i_x[1]['sigla'] == sigla, enumerate(items)))\n",
        "  if idxs_items:\n",
        "        i, item_to_delete = idxs_items[0][0], idxs_items[0][1]\n",
        "        del items[i]\n",
        "\n"
      ],
      "metadata": {
        "id": "Lg-FXguFDEo0"
      },
      "execution_count": 22,
      "outputs": []
    },
    {
      "cell_type": "markdown",
      "source": [
        "##Model\n",
        "\n",
        "Agora que temos o nosso \"banco de dados\" vamos acessa-lo por meio do modelo. Basicamente, acessaremos as funções criadas anteriormente sempre por meio desse modelo."
      ],
      "metadata": {
        "id": "pSYVi6b4Ia-d"
      }
    },
    {
      "cell_type": "code",
      "source": [
        "class Model(object):\n",
        "\n",
        "  def __init__(self, application_items):\n",
        "    self._item_type = 'instituto'\n",
        "    self.create_items(application_items)\n",
        "  \n",
        "  @property\n",
        "  def item_type(self):\n",
        "    return self._item_type\n",
        "  \n",
        "  @item_type.setter\n",
        "  def item_type(self, new_item_type):\n",
        "    self._item_type = new_item_type\n",
        "  \n",
        "  def create_item(self, sigla, cidade):\n",
        "    create_item(sigla, cidade)\n",
        "  \n",
        "  def create_items(self, items):\n",
        "    create_items(items)\n",
        "  \n",
        "  def read_item(self, sigla):\n",
        "    return read_item(sigla)\n",
        "  \n",
        "  def read_items(self):\n",
        "    return read_items()\n",
        "  \n",
        "  def update_item(self, sigla, cidade):\n",
        "    update_item(sigla, cidade)\n",
        "  \n",
        "  def delete_item(self, sigla):\n",
        "    delete_item(sigla) "
      ],
      "metadata": {
        "id": "-JNipoWGG2I0"
      },
      "execution_count": 23,
      "outputs": []
    },
    {
      "cell_type": "markdown",
      "source": [
        "###View\n",
        "\n",
        "Agora vamos criar a \"interface\" com o usuário. O importante aqui é notar que não existe lógica nessa parte do código, apenas métodos estáticos que vão apresentar alguma coisa ao usuário. Claro que em uma aplicação real, a interface não seria a saída do terminal, mas aqui é apenas para fins de entender os conceitos relacionados ao MVC."
      ],
      "metadata": {
        "id": "rr-Wo0vtMsW1"
      }
    },
    {
      "cell_type": "code",
      "source": [
        "class View(object):\n",
        "\n",
        "  @staticmethod\n",
        "  def show_item(item_type, item_sigla, item):\n",
        "    print('Sigla: {} - Cidade: {}'.format(item_sigla, item['cidade']))\n",
        "    \n",
        "  \n",
        "  @staticmethod\n",
        "  def display_item_stored(item, item_type):\n",
        "    print('O instituto {} foi adicionado com sucesso na nossa lista'.format(item))\n",
        "  \n",
        "  @staticmethod\n",
        "  def display_item_updated(item, o_cidade, n_cidade):\n",
        "    print('Atualizando o item {} da cidade antiga {} para {}.'.format(item, o_cidade, n_cidade))\n",
        "  \n",
        "  @staticmethod\n",
        "  def display_item_deleted(sigla):\n",
        "    print('O item com a sigla {} foi removido'.format(sigla))\n"
      ],
      "metadata": {
        "id": "NQIGmjrfMoAs"
      },
      "execution_count": 44,
      "outputs": []
    },
    {
      "cell_type": "markdown",
      "source": [
        "###Controller\n",
        "\n",
        "Agora que temos a Interface e o modelo criados podemos interliga-los por meio do contrlador. Note que vamos chamar as classes View e Model no init da classe Controller para fazer essa interligação."
      ],
      "metadata": {
        "id": "ehmmyoWxQAEs"
      }
    },
    {
      "cell_type": "code",
      "source": [
        "class Controller(object):\n",
        "\n",
        "  def __init__(self, model, view):\n",
        "    self.model = model\n",
        "    self.view = view\n",
        "  \n",
        "  def show_item(self, item_sigla):\n",
        "    item = self.model.read_item(item_sigla)\n",
        "    item_type = self.model.item_type\n",
        "    self.view.show_item(item_type, item_sigla, item)\n",
        "  \n",
        "  def insert_item(self, sigla, cidade):\n",
        "    item_type = self.model.item_type\n",
        "    self.model.create_item(sigla, cidade)\n",
        "    self.view.display_item_stored(sigla, item_type)\n",
        "  \n",
        "  def update_item(self, sigla, cidade):\n",
        "    item_type = self.model.item_type\n",
        "\n",
        "    older = self.model.read_item(sigla)\n",
        "    self.model.update_item(sigla, cidade)\n",
        "    self.view.display_item_updated(sigla, older['sigla'],cidade)\n",
        "\n"
      ],
      "metadata": {
        "id": "E7gQZAqqP_B6"
      },
      "execution_count": 25,
      "outputs": []
    },
    {
      "cell_type": "markdown",
      "source": [
        "###Testando nossa arquitetura\n",
        "\n",
        "Vamos testar se nossa arquitetura está funcionando como o esperado com as funções já implementadas."
      ],
      "metadata": {
        "id": "kdHqT3_nSqUT"
      }
    },
    {
      "cell_type": "code",
      "source": [
        "#Para inicializar nosso \"banco\" vamos utilizar a seguinte lista\n",
        "\n",
        "ifsDoSerido = [\n",
        "  {'sigla':'PAAS', 'cidade': 'Parelhas'},\n",
        "  {'sigla':'CN', 'cidade': 'Currais Novos'}\n",
        "]\n",
        "\n",
        "#Incializando a aplicação\n",
        "\n",
        "c = Controller(Model(ifsDoSerido), View())\n",
        "\n"
      ],
      "metadata": {
        "id": "Vfx5v4oSPfFD"
      },
      "execution_count": 45,
      "outputs": []
    },
    {
      "cell_type": "code",
      "source": [
        "c.show_item('PAAS')"
      ],
      "metadata": {
        "colab": {
          "base_uri": "https://localhost:8080/"
        },
        "id": "adMp8CLnTNbQ",
        "outputId": "f5abf5a5-6166-44f3-83ea-1e04c0a48e09"
      },
      "execution_count": 46,
      "outputs": [
        {
          "output_type": "stream",
          "name": "stdout",
          "text": [
            "Sigla: PAAS - Cidade: Parelhas\n"
          ]
        }
      ]
    },
    {
      "cell_type": "code",
      "source": [
        "c.insert_item('CA', 'Caicó')"
      ],
      "metadata": {
        "colab": {
          "base_uri": "https://localhost:8080/"
        },
        "id": "_Cp4ZvvOTOSB",
        "outputId": "43bd2c54-4834-41b7-a5fc-366ae3ef0e59"
      },
      "execution_count": 47,
      "outputs": [
        {
          "output_type": "stream",
          "name": "stdout",
          "text": [
            "O instituto CA foi adicionado com sucesso na nossa lista\n"
          ]
        }
      ]
    },
    {
      "cell_type": "markdown",
      "source": [
        "### Exercícios\n",
        "\n",
        "1. Adicione uma função que apresente todos os elementos da lista.\n",
        "2. Altere a função anterior para aparesentar os elementos em formato de tablea usando o Pandas.\n",
        "3. Adicione uma função que conte quantos elementos tem na lista."
      ],
      "metadata": {
        "id": "-qpF4df2UsxB"
      }
    }
  ]
}