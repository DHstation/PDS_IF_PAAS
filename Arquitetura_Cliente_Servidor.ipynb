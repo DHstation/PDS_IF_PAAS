{
  "nbformat": 4,
  "nbformat_minor": 0,
  "metadata": {
    "colab": {
      "name": "Arquitetura Cliente Servidor.ipynb",
      "provenance": [],
      "toc_visible": true,
      "authorship_tag": "ABX9TyOhCTuUCccRiXfmaBXRcheF",
      "include_colab_link": true
    },
    "kernelspec": {
      "name": "python3",
      "display_name": "Python 3"
    },
    "language_info": {
      "name": "python"
    }
  },
  "cells": [
    {
      "cell_type": "markdown",
      "metadata": {
        "id": "view-in-github",
        "colab_type": "text"
      },
      "source": [
        "<a href=\"https://colab.research.google.com/github/andouglasjr/PDS_IF_PAAS/blob/main/Arquitetura_Cliente_Servidor.ipynb\" target=\"_parent\"><img src=\"https://colab.research.google.com/assets/colab-badge.svg\" alt=\"Open In Colab\"/></a>"
      ]
    },
    {
      "cell_type": "markdown",
      "source": [
        "\n",
        "\n",
        "```\n",
        "# Instituto Federal do Rio Grande do Norte\n",
        "# Campus Avançado de Parelhas\n",
        "# Projeto de Software\n",
        "# Professor: Andouglas Gonçalves da Silva Júnior\n",
        "```\n",
        "\n",
        "\n"
      ],
      "metadata": {
        "id": "N-8por8PLQ8x"
      }
    },
    {
      "cell_type": "markdown",
      "source": [
        "\n",
        "#Arquitetura Cliente-Servidor\n",
        "\n",
        "Neste notebook vamos implementar um servidor em Flask e acessá-lo através de um navegador (cliente).\n",
        "\n",
        "Como funciona? O Google Colab criar uma máquina virtual nos servidores do Google para que você possa utilizar o poder de processamento dessas máquinas para diversas aplicações. Como é uma máquina virtual acessada de forma remota nós não conseguimos acessar o localhost da máquina e, por isso, precisamos utilizar a ferramenta ngrok que, de forma simplificada, cria um \"túnel\" para que possamos acessar esse localhost na web."
      ],
      "metadata": {
        "id": "RR55cywM2uB0"
      }
    },
    {
      "cell_type": "markdown",
      "source": [
        "##Instalando a biblioteca flask-ngrok\n",
        "\n",
        "A primeira coisa que precisa ser feito é fazer a instalação flask-ngrok aqui no colab. Para isso, execute a linha a seguir:"
      ],
      "metadata": {
        "id": "LRj70lcH3JqA"
      }
    },
    {
      "cell_type": "code",
      "source": [
        "!pip install flask-ngrok --quiet\n",
        "print(\"Installed\")"
      ],
      "metadata": {
        "id": "z664VWMe2QNA"
      },
      "execution_count": null,
      "outputs": []
    },
    {
      "cell_type": "markdown",
      "source": [
        "##Configurando o ngrok"
      ],
      "metadata": {
        "id": "uU-GhH2uJFQC"
      }
    },
    {
      "cell_type": "code",
      "source": [
        "!wget https://bin.equinox.io/c/4VmDzA7iaHb/ngrok-stable-linux-amd64.tgz\n",
        "!tar -xvf /content/ngrok-stable-linux-amd64.tgz\n",
        "!./ngrok authtoken \"Aqui precisa ser adicionado o seu token de autenticação\""
      ],
      "metadata": {
        "colab": {
          "base_uri": "https://localhost:8080/"
        },
        "id": "xGgP7W3iJXfq",
        "outputId": "b31d1c08-63bc-49eb-e887-5bb90217a0fb"
      },
      "execution_count": null,
      "outputs": [
        {
          "output_type": "stream",
          "name": "stdout",
          "text": [
            "--2022-08-09 15:08:00--  https://bin.equinox.io/c/4VmDzA7iaHb/ngrok-stable-linux-amd64.tgz\n",
            "Resolving bin.equinox.io (bin.equinox.io)... 54.237.133.81, 52.202.168.65, 18.205.222.128, ...\n",
            "Connecting to bin.equinox.io (bin.equinox.io)|54.237.133.81|:443... connected.\n",
            "HTTP request sent, awaiting response... 200 OK\n",
            "Length: 13770165 (13M) [application/octet-stream]\n",
            "Saving to: ‘ngrok-stable-linux-amd64.tgz’\n",
            "\n",
            "ngrok-stable-linux- 100%[===================>]  13.13M  8.17MB/s    in 1.6s    \n",
            "\n",
            "2022-08-09 15:08:01 (8.17 MB/s) - ‘ngrok-stable-linux-amd64.tgz’ saved [13770165/13770165]\n",
            "\n",
            "ngrok\n",
            "Authtoken saved to configuration file: /root/.ngrok2/ngrok.yml\n"
          ]
        }
      ]
    },
    {
      "cell_type": "markdown",
      "source": [
        "##Implementando o servidor\n",
        "\n",
        "Agora podemos fazer a implementação básica do servidor. Leia os comentários para entender melhor o que está sendo feito.\n"
      ],
      "metadata": {
        "id": "kvDoxAzl2XhJ"
      }
    },
    {
      "cell_type": "code",
      "source": [
        "#inicialmente importamos as bibliotecas necessárias para utilizar o Flask\n",
        "from flask import Flask\n",
        "from flask_ngrok import run_with_ngrok\n",
        "\n",
        "app = Flask(__name__) #Iniciando uma applicação fask\n",
        "run_with_ngrok(app) #Essa linha é chamada apenas para que seja possível rodar o flask aqui no colab.   \n",
        "  \n",
        "@app.route(\"/\") #Esse route aponta para o diretório padrão do projeto. É o que será chamado quando chamamos o link principal do site.\n",
        "def home(): #Essa é a nossa tela inicial. Ela chama uma pagina html e adiciona nela o que está no retorno da função.\n",
        "    return \"<h1>Hello, IFRN PAAS!</h1>\" \n",
        "    \n",
        "app.run() #Inicia o servidor"
      ],
      "metadata": {
        "id": "HoiPxUtg3XJG"
      },
      "execution_count": null,
      "outputs": []
    },
    {
      "cell_type": "markdown",
      "source": [
        "##Alterando o Servidor\n",
        "\n",
        "Vamos fazer um serviço de uma calculadora que retorna resultados de algumas operações matemáticas. OBS.: Não esqueça de parar a execução da célula anterior."
      ],
      "metadata": {
        "id": "8wjC5---4dUG"
      }
    },
    {
      "cell_type": "code",
      "source": [
        "#inicialmente importamos as bibliotecas necessárias para utilizar o Flask\n",
        "from flask import Flask\n",
        "from flask_ngrok import run_with_ngrok\n",
        "from flask import request\n",
        "\n",
        "app = Flask(__name__) #Iniciando uma applicação fask\n",
        "run_with_ngrok(app) #Essa linha é chamada apenas para que seja possível rodar o flask aqui no colab.   \n",
        "  \n",
        "@app.route(\"/\") #Esse route aponta para o diretório padrão do projeto. É o que será chamado quando chamamos o link principal do site.\n",
        "def home(): #Essa é a nossa tela inicial. Ela chama uma pagina html e adiciona nela o que está no retorno da função.\n",
        "    return \"<h1>Calculadora</h1><br>\" \n",
        "  \n",
        "@app.route(\"/soma\")\n",
        "def soma():\n",
        "  number1 = request.args.get('number1', type = int)\n",
        "  number2 = request.args.get('number2', type = int)\n",
        "\n",
        "  return \"<h1> O resultado da soma é {}\".format(number1 + number2)\n",
        "\n",
        "#implementar aqui a subtração.\n",
        "    \n",
        "app.run() #Inicia o servidor"
      ],
      "metadata": {
        "colab": {
          "base_uri": "https://localhost:8080/"
        },
        "id": "PhoGuPf7ECa8",
        "outputId": "f3955a4f-dee1-4251-aac4-1c18a4ef4e61"
      },
      "execution_count": null,
      "outputs": [
        {
          "output_type": "stream",
          "name": "stdout",
          "text": [
            " * Serving Flask app \"__main__\" (lazy loading)\n",
            " * Environment: production\n",
            "\u001b[31m   WARNING: This is a development server. Do not use it in a production deployment.\u001b[0m\n",
            "\u001b[2m   Use a production WSGI server instead.\u001b[0m\n",
            " * Debug mode: off\n"
          ]
        },
        {
          "output_type": "stream",
          "name": "stderr",
          "text": [
            "INFO:werkzeug: * Running on http://127.0.0.1:5000/ (Press CTRL+C to quit)\n"
          ]
        },
        {
          "output_type": "stream",
          "name": "stdout",
          "text": [
            " * Running on http://e1cd-34-75-115-93.ngrok.io\n",
            " * Traffic stats available on http://127.0.0.1:4040\n"
          ]
        },
        {
          "output_type": "stream",
          "name": "stderr",
          "text": [
            "INFO:werkzeug:127.0.0.1 - - [09/Aug/2022 15:08:13] \"\u001b[37mGET / HTTP/1.1\u001b[0m\" 200 -\n",
            "INFO:werkzeug:127.0.0.1 - - [09/Aug/2022 15:08:13] \"\u001b[33mGET /favicon.ico HTTP/1.1\u001b[0m\" 404 -\n",
            "INFO:werkzeug:127.0.0.1 - - [09/Aug/2022 15:08:51] \"\u001b[37mGET /soma?number1=10&number2=10 HTTP/1.1\u001b[0m\" 200 -\n",
            "INFO:werkzeug:127.0.0.1 - - [09/Aug/2022 15:08:51] \"\u001b[33mGET /favicon.ico HTTP/1.1\u001b[0m\" 404 -\n",
            "INFO:werkzeug:127.0.0.1 - - [09/Aug/2022 15:08:56] \"\u001b[37mGET /soma?number1=10&number2=15 HTTP/1.1\u001b[0m\" 200 -\n"
          ]
        }
      ]
    },
    {
      "cell_type": "code",
      "source": [
        "!flask-ngrok authtoken '28L3iruB2GIt3R2ujRj7OxRXnmZ_WyyzbNC3iwVbzbgDLRRT'"
      ],
      "metadata": {
        "colab": {
          "base_uri": "https://localhost:8080/"
        },
        "id": "U1NFEG47F9fO",
        "outputId": "d9ae5ddf-b682-4251-d89e-a1631372a505"
      },
      "execution_count": null,
      "outputs": [
        {
          "output_type": "stream",
          "name": "stdout",
          "text": [
            "/bin/bash: flask-ngrok: command not found\n"
          ]
        }
      ]
    },
    {
      "cell_type": "code",
      "source": [
        ""
      ],
      "metadata": {
        "id": "e2MsPtL5Gf78"
      },
      "execution_count": null,
      "outputs": []
    }
  ]
}